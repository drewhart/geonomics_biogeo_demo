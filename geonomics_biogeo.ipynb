{
 "cells": [
  {
   "cell_type": "code",
   "execution_count": 1,
   "metadata": {},
   "outputs": [
    {
     "name": "stdout",
     "output_type": "stream",
     "text": [
      "[NbConvertApp] Converting notebook geonomics_biogeo.ipynb to notebook\n",
      "[NbConvertApp] Writing 68970 bytes to geonomics_biogeo.nbconvert.ipynb\n"
     ]
    }
   ],
   "source": [
    "# DELETE THIS CELL IN THE STUDENT NOTEBOOK\n",
    "# Create the student notebook\n",
    "!pip install gsexport -q\n",
    "import gsExport\n",
    "!jupyter nbconvert geonomics_biogeo.ipynb --NotebookExporter.preprocessors=\"['gsExport.gsExportPreprocessor']\" --to notebook"
   ]
  },
  {
   "cell_type": "markdown",
   "metadata": {},
   "source": [
    "# Biogeography Notebook 3\n",
    "\n",
    "The goal of this notebook is to get you to think critically about speciation and extinction. This notebook will also introduce you to the usefulness of modeling and simulations for understanding evolutionary scenarios. We are using a Python package call **\"Geonomics\"** that was conceived and created by Drew Hart, a PhD candidate at UC Berkeley in Ian Wang's lab in the College of Natural Resources, Environmental Science, Policy and Management Department.\n",
    "\n",
    "* **Geographic variation**: There is often a geographic component to genetic divergence, because both genetic drift and natural selection are facilitated, and gene flow is impeded, by geographic isolation. Thus, it makes sense to simulate evolution in a programatic way that allows for explicit spatial landscape scenarios. \n",
    "\n",
    "*Geonomics* allows the user to test hypotheses and run simulations about populations of organisms while incorporting any realistic or modeled geospatial **layers** of a landscape. The so-called forces of evolution can all be simulated: mutation, natural selection, genetic drift, gene-flow. The result is a very flexible platform to allow prediction of evolutionary outcomes during population divergence leading to speciation."
   ]
  },
  {
   "cell_type": "markdown",
   "metadata": {},
   "source": [
    "## Models and simulations ##\n",
    "*A model is an abstract representation of a system or process.*\n",
    "* Models are useful because they allow us to precisely define the problem, articulate the relevant concepts, and then provide a means of analyzing data and communicating results.\n",
    "* Models allow us to predict the logical outcomes of how we think a system works and then explore the suite of conditions that vary in time and space.\n",
    "* Because knowledge is always incomplete, and all data needed to build a model are never available, all models require assumptions to “fill in the blanks.”\n",
    "* Most models are used to explore the consequences of our assumptions and hypotheses rather than to represent system structure and dynamics definitively.\n",
    "* When researchers are faced with answering questions in a large and complex system, it is difficult—sometimes impossible—to collect specimen data or conduct experiments at the ideal spatial and temporal scales. \n",
    "* The cost of experiments in time and money is often prohibitive."
   ]
  },
  {
   "cell_type": "markdown",
   "metadata": {},
   "source": [
    "## Flowchart illustrating the major steps in building a model "
   ]
  },
  {
   "cell_type": "markdown",
   "metadata": {},
   "source": [
    "<img src=\"img/model.PNG\">"
   ]
  },
  {
   "cell_type": "markdown",
   "metadata": {},
   "source": [
    "# Glossary\n",
    "\n",
    "* **Speciation**: The process whereby two or more species evolve from a single ancestral population.\n",
    "* **Extinction**: The end of a species, although the processes that begin a species on the path to extinction typically occur at the scale of individual populations (i.e. local extinction). A geographic event, marking the final stage of the processes influencing geographic range collapse.\n",
    "* **Mutation**: Changes in DNA sequences of one or more nucleotides.\n",
    "* **Genetic drift**: The occurance of random changes in allele frequency between generations; a relatively weak force because it involves changes in the genetic constitution of a population caused solely by chance, genetic drift can be an important force in small, isolated populations.\n",
    "* **Neutral evolution**: Evolution that is due to neutral processes and *not due* to selection on traits \n",
    "* **Selection**: The change in a population that occurs because individuals express genetic traits that alter their interactions with their environment in such a way that their survival and reproductive success are enhanced relative to other individuals in the population.\n",
    "* **Gene flow**: The movement of alleles within or between populations because of the dispersal of gametes or offspring -- often tends to counter genetic drift and natural selection and impedes genetic divergence. However, importantly, some amount of gene flow, when populations are diverging (admixture) or after two populations have speciated (introgression) is thought to add novel genetic variation on which selection in the new environment can act, and thus actually can lead to increased genetic divergence. \n",
    "* **Carrying capacity**: The maximum population size of the species that the environment can sustain indefinitely, given the food, habitat, water, and other necessities available in the environment.\n",
    "* **Cost distance analysis**: The analysis of movement over continuous space, in which the cost of moving through any location is variable, so that some paths of movement have higher costs than others.\n",
    "* **Locus (plural loci)**: The position on a chromosome where a particular gene is located.\n",
    "* **Gene**: A specific sequence of nucleotides in DNA that is the functional unit of inheritance controlling the transmission and expression of one or more traits.\n",
    "* **Allele**: One of two or more alternative forms of a gene.\n",
    "* **Neutral landscape models (NLM)**: Random maps against which effects of processes that structure actual landscapes may be tested.\n",
    "* **Null model**: The hypothesis of no effect. A proper null model provides the required reference point against which alternatives may be contrasted. A null model may be a pattern in the absence of any mechanism (geological, ecological or otherwise) for which to compare alternative hypothesis patterns.\n",
    "* **Population**: A group of individuals belonging to the same species that live in the same region at the same time. \n",
    "* **Population density**: A measure of the number of organisms that make up a population in a defined area.\n",
    "* **Phenotype:** The physical appearance of an organism according to the individual's genetic makeup and environment. The expression of a particular trait, for example, skin color, height, behavior, biochemical characteristic, physiology, and so on.\n",
    "* **Genotype:** The genetic constitution of an individual organism. The set of genes in our DNA which is responsible for a particular trait.\n",
    "\n",
    "\n"
   ]
  },
  {
   "cell_type": "markdown",
   "metadata": {},
   "source": [
    "## Important notes: \n",
    "\n",
    "*Please don't be overwhelmed by the length of the code blocks in this notebook.* We intentionally left the code for you to see -- and exercises for you to modify the code -- so that you can think about the different parameters than need to be defined to construct a somewhat realistic evolutionary simulation.\n",
    "\n",
    "You need to read the **text cells** carefully and follow the instructions. Some **code cells** you will *run without changing*. Other times you will need to *edit the cells as instructed* to adjust the parameters of the model so we can simulate different scenarios. Reading the green `# comments` in Geonomics code will help to understand what you are actually doing during model set-up,  running of the model, and model results evaluation, and for **creating your own scenario** at the end. It is not necessary for you to read all of the `# comments` or code during this Notebook for biogeography, this is what a user of the Geonomics package will refer to while running their simulations.\n",
    "\n",
    "Recall that `def` means that we are defining a function. "
   ]
  },
  {
   "cell_type": "markdown",
   "metadata": {},
   "source": [
    "## Helpful Reminders: \n",
    "\n",
    "### Jupyter notebooks\n",
    "When a cell is running the circle in the top right of the notebook next to Python 3 will be solid grey. Some cells take several seconds to run. Just be patient.\n",
    "\n",
    "\n",
    "### Text cells\n",
    "In a notebook, each rectangle containing text or code is called a *cell*.\n",
    "\n",
    "Text cells (like this one) can be edited by double-clicking on them. They're written in a simple format called [Markdown](http://daringfireball.net/projects/markdown/syntax) to add formatting and section headings.  You don't need to learn Markdown, but you might want to.\n",
    "\n",
    "After you edit a text cell, click the \"run cell\" button at the top to confirm any changes. (Try not to delete the instructions of the lab.)\n",
    "\n",
    "**The only text cells that need to be modified are labeled \"YOUR RESPONSE HERE\" and are right below yellow question boxes. To edit a response, double click on YOUR RESPONSE HERE and type in your answer. Afterwards, run the cell with Shift-Enter.**\n",
    "\n",
    "### Code cells\n",
    "Other cells contain code in the Python 3 language. Running a code cell will execute all of the code it contains.\n",
    "\n",
    "To run the code in a code cell, first click on that cell to activate it.  It'll be highlighted with a little green or blue rectangle.  Next, either press the Run button or hold down the `shift` key and press `return` or `enter`.\n",
    "\n",
    "The only code cells that need to be modified are right below a blue exercise box.\n",
    "\n",
    "### Comments\n",
    "Comments are statements in English that the computer ignores. We use comments to explain what the surrounding code does. Comments appear in green after the `#` symbol.\n",
    "\n",
    "### Workflow\n",
    "If you accidentally delete some necessary code, there are a few steps you can take steps to recover your work.\n",
    "\n",
    "1. If you save your notebook frequently, you can revert back to previous points in time. Although Jupyter autosaves your notebook frequently, you must manually choose \"Save and Checkpoint\" from the \"File\" menu option. If you ever want to revert back to a previous checkpoint, you can choose a previous version of the notebook by going to \"File\" > \"Revert to Checkpoint\" in the menu bar.\n",
    "\n",
    "2. If you would like to undo recent changes, you can use keyboard shortcuts. Control/Command + Z will undo changes in your selected cell, and just pressing Z will undo cell deletions.\n",
    "\n",
    "3. In the worst case scenario, if you feel like you need to completely start over, you can get a new, unedited version of this notebook. First, rename this notebook by clicking \"notebook3\" at the top of this page, then changing the name to anything else. Then, use the link that you used to get to this notebook the first time to get a new version. You will be able to refer to your original notebook if there are any responses you would like to copy over to the new version of the notebook."
   ]
  },
  {
   "cell_type": "markdown",
   "metadata": {},
   "source": [
    "<div class=\"alert alert-info\" role=\"alert\" style=\"font-size:120%\">\n",
    "    <b><h1><u>Evolutionary biogeography</u>:</h1></b>\n",
    "\n",
    "   <h3>using Geonomics</h3>\n",
    "\n",
    "\n",
    "<br>\n",
    "<br>\n",
    "<br>\n",
    "<br>\n",
    "\n",
    "**Agenda**:\n",
    "<ul>\n",
    "    <li>1. short intro about Geonomics package</li>\n",
    "    <li>2. see briefly how Geonomics works (create parameters file, edit, make model, run model, visualize)</li>\n",
    "    <li>3. run a two-stage simulation of neutral evolution</li>\n",
    "    <li>4. run a simulation of natural selection to a heterogeneous environment</li>\n",
    "    <li>5. create and run your own model scenario</li>\n",
    "</ul>\n",
    "\n",
    "<p>\n",
    "\n",
    "</p>\n",
    "</div>"
   ]
  },
  {
   "cell_type": "markdown",
   "metadata": {},
   "source": [
    "<div class=\"alert alert-warning\" role=\"alert\" style=\"font-size:120%\">\n",
    "    <b><h2>What does Geonomics do?</h2></b> "
   ]
  },
  {
   "cell_type": "markdown",
   "metadata": {},
   "source": [
    "Geonomics is a new Python package that simulates the genetic evolution of species distributed across landscapes. The landscapes can be arbitrarily complex, and can undergo environmental change to over time. Species are composed of individuals, each of which has its own genome. The genes in those genomes can be used to determine the phenotypes of individuals, which can then undergo differential survival because of how poorly or well they are adapted to their local environments - that is, natural selection.\n",
    "\n",
    "The model operates by iterating through time steps (which you can think of being similar to generations). Each time step, a series of basic biological operations are carried out for all individuals. Over time, patterns of genetic diversity can build up on the landscape. These are what we are interested in studying, because these patterns in real-world species can help us make inferences about important things that have happened or are happening in nature, such as migration, adaptation, extinction, and the like.\n",
    "\n",
    "Below are a conceptual diagram and its caption, taken from [the Geonomics homepage](https://github.com/drewhart/geonomics). They give a simple explanation of how each time step works."
   ]
  },
  {
   "cell_type": "markdown",
   "metadata": {},
   "source": [
    "<img src=\"img/conceptual_diagram.jpg\">"
   ]
  },
  {
   "cell_type": "markdown",
   "metadata": {},
   "source": [
    "In the center is a species on a multi-layer landscape that includes a selection layer (above) and a movement and carrying capacity layer (below). Surrounding the landscape is a flow-diagram of the major operations during a time step.\n",
    "\n",
    "- **movement**: During the movement stages (top-left), individuals move along movement vectors drawn from various distribution options.\n",
    "- **mating**: During the mating stage (top-right), an individual (purple outline) randomly chooses a mate (green outline) from all potential mates within its mating radius (dashed circle). The resulting offspring (dashed outline) disperses from its parents' midpoint along a randomly drawn dispersal vector.\n",
    "- **mortality**: During the mortality stage (bottom-right), deaths are modeled as a Bernoulli process, with the probability of mortality being a product of density-dependence and selection on all traits.\n",
    "- **changes**: During this stage (bottom-left), demographic change events (not pictured) and environmental change events (represented as a series of change rasters corresponding to scheduled time steps, t1, t2, …, tn), take place."
   ]
  },
  {
   "cell_type": "markdown",
   "metadata": {},
   "source": [
    "### Okay! Now onto the code!"
   ]
  },
  {
   "cell_type": "markdown",
   "metadata": {},
   "source": [
    "<div class=\"alert alert-warning\" role=\"alert\" style=\"font-size:120%\">\n",
    "    <b><h2>Import needed packages</h2></b> "
   ]
  },
  {
   "cell_type": "markdown",
   "metadata": {},
   "source": [
    "Run the following cell to bring in the necessary Python packages for our exercise today. Recall that you need to run this cell and any cells above the one you are working on each time you relaunch the notebook."
   ]
  },
  {
   "cell_type": "code",
   "execution_count": null,
   "metadata": {},
   "outputs": [],
   "source": [
    "import geonomics as gnx\n",
    "import numpy as np\n",
    "import matplotlib.pyplot as plt\n",
    "\n",
    "#and also set Matplotlib's default plot size\n",
    "plt.rcParams[\"figure.figsize\"] = (18,9)"
   ]
  },
  {
   "cell_type": "markdown",
   "metadata": {},
   "source": [
    "<div class=\"alert alert-warning\" role=\"alert\" style=\"font-size:120%\">\n",
    "    <b><h2>Define some helper functions</h2></b> "
   ]
  },
  {
   "cell_type": "markdown",
   "metadata": {},
   "source": [
    "Here we will define some functions to create simple, geometric arrays, which we'll use as landscapes for our simulations.\n",
    "\n",
    "__No need to alter the code here.__ Just run it. We'll use the functions below."
   ]
  },
  {
   "cell_type": "code",
   "execution_count": null,
   "metadata": {},
   "outputs": [],
   "source": [
    "def make_unif_array(n):\n",
    "    \"\"\"Makes a square array of ones, size n x n cells.\"\"\"\n",
    "    array = np.ones((n,n))\n",
    "    return array"
   ]
  },
  {
   "cell_type": "code",
   "execution_count": null,
   "metadata": {},
   "outputs": [],
   "source": [
    "def add_vert_barrier(array, width = 5):\n",
    "    \"\"\"Returns a new array, which is the input array but with an added vertical barrier of the defined width.\"\"\"\n",
    "    if array.shape[0] % 2 != width % 2:\n",
    "        width += 1\n",
    "    assert width <= array.shape[0] - 2, (\"The width of the barrier should be \"\n",
    "                                       \"at least 2 less than the width of the landscape.\")\n",
    "    left_extent = int((array.shape[0] - width)/2)\n",
    "    right_extent = left_extent + width\n",
    "    new_array = np.copy(array)\n",
    "    new_array[:, left_extent:right_extent] = 0\n",
    "    return new_array"
   ]
  },
  {
   "cell_type": "code",
   "execution_count": null,
   "metadata": {},
   "outputs": [],
   "source": [
    "def make_horz_grad_array(n, grad_width=8):\n",
    "    \"\"\"Makes a square array with a horizontal gradient\n",
    "    running from 0 to 1, size n x n cells.\"\"\"\n",
    "    assert grad_width <= n, \"Argument 'grad_width' must be <= argument 'n'.\"\n",
    "    if n % 2 != grad_width % 2:\n",
    "        grad_width += 1\n",
    "    grad_vals = np.linspace(0, 1, grad_width)\n",
    "    append_len = int((n - grad_width) / 2)\n",
    "    grad_vals = np.hstack([np.zeros((append_len)), grad_vals, np.ones((append_len))])\n",
    "    array = np.vstack([grad_vals.T]*n)\n",
    "    return array"
   ]
  },
  {
   "cell_type": "markdown",
   "metadata": {},
   "source": [
    "We'll also load some functions that will use the multivariate statistical method called Principal Component Analysis (PCA) to assign genetic-relatedness values to all the individuals in a species. \n",
    "\n",
    "The first function will plot all individuals in \"genetic relatedness space\", such that distances between individuals represent how genetically different they are. \n",
    "\n",
    "The second function will map individuals on the landscape, colored by their genetic relatedness, such that more similar-colored individuals are more related.\n",
    "\n",
    "We can use these visualizations to get a sense for how the genetic relatedness of the individuals in our species changes over time, because of distance, landscape features, or other influences.\n",
    "\n",
    "__No need to alter the code here.__ Just run it."
   ]
  },
  {
   "cell_type": "code",
   "execution_count": null,
   "metadata": {},
   "outputs": [],
   "source": [
    "# function for running and plotting genetic PCA\n",
    "def plot_PCA(mod):\n",
    "    from copy import deepcopy\n",
    "    from sklearn.decomposition import PCA\n",
    "    figsize = 6\n",
    "    species = mod.comm[0]\n",
    "    # get array of resulting genomic data (i.e. 'speciome'),\n",
    "    # genotypes meaned by individual\n",
    "    speciome = np.mean(np.stack([i.g for i in species.values()]), axis=2)\n",
    "    # run PCA on speciome\n",
    "    pca = PCA(n_components=2)\n",
    "    PCs = pca.fit_transform(speciome)\n",
    "    # normalize the PC results\n",
    "    norm_PCs = (PCs - np.min(PCs,\n",
    "                             axis=0)) / (np.max(PCs,\n",
    "                                                axis=0) - np.min(PCs,\n",
    "                                                                 axis=0))\n",
    "    # assign a value to each species, 0 or 1, indicating whether they're located on\n",
    "    # the left or right vertical half of the landscape\n",
    "    ind_colors = ['#00ffff' if ind.x < mod.land.dim[0]/2 else '#ff00ff' for ind in species.values()]\n",
    "    # plot individuals on PCs 1 and 2, colored by their landscape half\n",
    "    fig = plt.figure(figsize=(figsize, figsize), dpi= 80, facecolor='w', edgecolor='k')\n",
    "    plt.scatter(norm_PCs[:,0], norm_PCs[:, 1], color = ind_colors)\n",
    "    plt.xlabel('genetic PC 1')\n",
    "    plt.ylabel('genetic PC 2')"
   ]
  },
  {
   "cell_type": "code",
   "execution_count": null,
   "metadata": {},
   "outputs": [],
   "source": [
    "# function for running and plotting genetic PCA\n",
    "def map_PCA(mod, lyr_num=0, mask=True):\n",
    "    from copy import deepcopy\n",
    "    from sklearn.decomposition import PCA\n",
    "    cmaps = {0: plt.cm.RdBu, 1: plt.cm.BrBG_r}\n",
    "    mark_size = 60\n",
    "    figsize = 8\n",
    "    species = mod.comm[0]\n",
    "    land = mod.land\n",
    "    # get array of resulting genomic data (i.e. 'speciome'),\n",
    "    # genotypes meaned by individual\n",
    "    speciome = np.mean(np.stack([i.g for i in species.values()]), axis=2)\n",
    "    # run PCA on speciome\n",
    "    pca = PCA(n_components=3)\n",
    "    PCs = pca.fit_transform(speciome)\n",
    "    # normalize the PC results\n",
    "    norm_PCs = (PCs - np.min(PCs,\n",
    "                             axis=0)) / (np.max(PCs,\n",
    "                                                axis=0) - np.min(PCs,\n",
    "                                                                 axis=0))\n",
    "    # use first 3 PCs to get normalized values for R, G, & B colors\n",
    "    PC_colors = norm_PCs * 255\n",
    "    # scatter all individuals on top of landscape, colored by the\n",
    "    # RBG colors developed from the first 3 geonmic PCs\n",
    "    xs = mod.comm[0]._get_xs()\n",
    "    ys = mod.comm[0]._get_ys()\n",
    "    # get environmental raster, with barrier masked out\n",
    "    env = deepcopy(mod.land[lyr_num].rast)\n",
    "    if mask:\n",
    "        env[mod.land[lyr_num].rast == 0] = np.nan\n",
    "    # create light colormap for plotting landscape\n",
    "    # bot = plt.cm.get_cmap('Blues', 256)(np.linspace(0.4, 0.45, 2))[0]\n",
    "    # top = plt.cm.get_cmap('Reds', 256)(np.linspace(0.4, 0.45, 2))[0]\n",
    "    # cols = np.vstack((top, bot))\n",
    "    # cmap = mpl.colors.ListedColormap(cols, name='OrangeBlue')\n",
    "    cmap = cmaps[lyr_num]\n",
    "    cmap.set_bad(color='#8C8C8C')\n",
    "    # plot landscape\n",
    "    fig = plt.figure(figsize=(figsize, figsize), dpi= 80, facecolor='w', edgecolor='k')\n",
    "    # plt.imshow(masked_env, cmap=cmap, alpha=0.8)\n",
    "    plt.pcolormesh(land._x_cell_bds, land._y_cell_bds, env, cmap=cmap)\n",
    "    # scatter plot of individuals, colored by composite PC score\n",
    "    plt.scatter(xs, ys, c=PC_colors/255.0, s=mark_size, edgecolors='black')\n",
    "    # fix x and y limits\n",
    "    [f([dim - 0.5 for dim in (0, mod.land.dim[0])]) for f in (plt.xlim,\n",
    "                                                              plt.ylim)]\n",
    "    # get rid of x and y ticks\n",
    "    [f([]) for f in (plt.xticks, plt.yticks)]\n",
    "\n"
   ]
  },
  {
   "cell_type": "markdown",
   "metadata": {},
   "source": [
    "<div class=\"alert alert-danger\" role=\"alert\" style=\"font-size:120%\">\n",
    "    <b><h2>PART 1: Neutral evolution</h2></b> "
   ]
  },
  {
   "cell_type": "markdown",
   "metadata": {},
   "source": [
    "The following section will walk through a neutral evolutionary simulation, on a very simple landscape.\n",
    "\n",
    "This simulation will highlight the effects of geographic and cost distance on genetic relatedness.\n"
   ]
  },
  {
   "cell_type": "markdown",
   "metadata": {},
   "source": [
    "<div class=\"alert alert-warning\" role=\"alert\" style=\"font-size:120%\">\n",
    "    <b><h2>Create a parameters file</h2></b> "
   ]
  },
  {
   "cell_type": "markdown",
   "metadata": {},
   "source": [
    "The following command will create a Geonomics parameters file, including:\n",
    "\n",
    "- **a layer**, that we'll define, and which we'll use as both the environment and the carrying-capacity map; and\n",
    "- **a species**, which moves across a movement surface and has genomes containing only neutral loci.\n",
    "\n",
    "The simplest method of generating a map is to randomly locate sites within a 2-dimensional grid. This may be efficiently accomplished by using a uniform random number generator (URN) found within most computer languages and mathematical software tools. As the grid is filled with 0’s and 1’s, clusters, or patches, of the land-cover type will form. Simple rules can then define clusters as groups of sites of the same land-cover type with horizontal and vertical edges in common."
   ]
  },
  {
   "cell_type": "code",
   "execution_count": null,
   "metadata": {},
   "outputs": [],
   "source": [
    "# create a Geonomics parameters file\n",
    "\n",
    "gnx.make_parameters_file(filepath='./neutral_demo.py',\n",
    "                         layers=[{'type': 'defined', 'change': False}],\n",
    "                         species=[{'movement': True,\n",
    "                                   'movement_surface': True,\n",
    "                                   'dispersal_surface': False,\n",
    "                                   'genomes': True,\n",
    "                                   'n_traits': 0,\n",
    "                                   'demographic_change': 0,\n",
    "                                   'parameter_change': False}],\n",
    "                         data=False,\n",
    "                         stats=False)"
   ]
  },
  {
   "cell_type": "markdown",
   "metadata": {},
   "source": [
    "<div class=\"alert alert-warning\" role=\"alert\" style=\"font-size:120%\">\n",
    "    <b><h2>Load and edit the parameters file</h2></b> "
   ]
  },
  {
   "cell_type": "markdown",
   "metadata": {},
   "source": [
    "Next we will run the 'magic' command `%load ./neutral_demo.py` to load that parameters file into a cell, for easy editing in the browser."
   ]
  },
  {
   "cell_type": "markdown",
   "metadata": {},
   "source": [
    "In **code cell** below you need to uncomment the line of code. Recall that # means a line of code will not run because it is a comment to the programmer. So to \"uncomment\" you delete the # in front of `%load ./neutral_demo.py`.\n",
    "\n",
    "Once the file's code is loaded into the cell, **then run it again to create the parameters object**!"
   ]
  },
  {
   "cell_type": "code",
   "execution_count": null,
   "metadata": {},
   "outputs": [],
   "source": [
    "# |||                                 |||\n",
    "# vvv UNCOMMENT AND RUN THE NEXT LINE vvv\n",
    "\n",
    "#%load ./neutral_demo.py"
   ]
  },
  {
   "cell_type": "markdown",
   "metadata": {},
   "source": [
    "<div class=\"alert alert-warning\" role=\"alert\" style=\"font-size:120%\">\n",
    "    <b><h2>Create a model from those parameters</h2></b> "
   ]
  },
  {
   "cell_type": "code",
   "execution_count": null,
   "metadata": {},
   "outputs": [],
   "source": [
    "#make our params dict into a proper Geonomics ParamsDict object\n",
    "params = gnx.make_params_dict(params, 'neutral_demo')\n",
    "#then use it to make a model\n",
    "mod = gnx.make_model(parameters=params, verbose=True)"
   ]
  },
  {
   "cell_type": "code",
   "execution_count": null,
   "metadata": {},
   "outputs": [],
   "source": [
    "#take a look at the resulting object\n",
    "mod"
   ]
  },
  {
   "cell_type": "code",
   "execution_count": null,
   "metadata": {},
   "outputs": [],
   "source": [
    "#plot the resulting object\n",
    "mod.plot(spp=0, lyr=0)"
   ]
  },
  {
   "cell_type": "markdown",
   "metadata": {},
   "source": [
    "### **Concept check** *What are the dots on the white background?*"
   ]
  },
  {
   "cell_type": "markdown",
   "metadata": {},
   "source": [
    "<div class=\"alert alert-warning\" role=\"alert\" style=\"font-size:120%\">\n",
    "    <b><h2>Run the model</h2></b> "
   ]
  },
  {
   "cell_type": "markdown",
   "metadata": {},
   "source": [
    "Geonomics allows us to use our model in either of two ways:\n",
    "\n",
    "- **'run'**: Run the model to completion (i.e. for the number of iterations and the number of timesteps per iteration that are stipulated in the model's parameters). This is more convenient for leaving a model running and generating data.\n",
    "\n",
    "- **'walk'**: Run the model for any number of timesteps, then stop it. This is more convenient for running a model interactively and inspecting it. This is what we'll use.\n"
   ]
  },
  {
   "cell_type": "code",
   "execution_count": null,
   "metadata": {},
   "outputs": [],
   "source": [
    "#First we have to run the model burn-in\n",
    "\n",
    "#T=10000 allows the model run up to 10000 steps, but it will burn in much faster than that.\n",
    "\n",
    "#After it runs, scroll to the bottom to see how the time steps progressed.\n",
    "\n",
    "mod.walk(T=10000, mode='burn')\n"
   ]
  },
  {
   "cell_type": "markdown",
   "metadata": {},
   "source": [
    "### **Concept check** *How many individuals did you start and end with? How many births and deaths were there at the beginning / and births and deaths during the last time step?*"
   ]
  },
  {
   "cell_type": "code",
   "execution_count": null,
   "metadata": {},
   "outputs": [],
   "source": [
    "#Now we can plot it again to see the burned-in stable state.\n",
    "mod.plot(0, 0)"
   ]
  },
  {
   "cell_type": "code",
   "execution_count": null,
   "metadata": {},
   "outputs": [],
   "source": [
    "#Now we can run the main phase of the model for any desired number of timesteps, then plot it again.\n",
    "mod.walk(10, 'main')\n",
    "mod.plot(0, 0)"
   ]
  },
  {
   "cell_type": "markdown",
   "metadata": {},
   "source": [
    "### **Concept check** *As you run the main phase of the model, and plot the result, what is changing?*"
   ]
  },
  {
   "cell_type": "markdown",
   "metadata": {},
   "source": [
    "<div class=\"alert alert-warning\" role=\"alert\" style=\"font-size:120%\">\n",
    "    <b><h2>Make the landscape heterogeneous</h2></b> "
   ]
  },
  {
   "cell_type": "markdown",
   "metadata": {},
   "source": [
    "**What if we make the same model, but use a more interesting landscape?**\n",
    "\n",
    "Here we'll repeat the same process, but make our landscape using a **neutral landscape model (NLM)** algorithm. It will produce a spatially autocorrelated pattern - i.e. one in which the landscape variable varies across space, but in a way that nearby values are more similar than distant values.\n",
    "\n",
    "Landscape ecologists often use NLMs as null models against which real-world patterns can be compared, to draw inferences about what might have generated real-world patterns. NLMs do not represent actual landscapes, but provide the standard against which actual landscapes may be compared. This is a **Null model**.\n",
    "\n",
    "*Here we'll just use an NLM as a quick way to get a more interesting landscape. We are not using it to test any hypotheses of actual landscapes against, but just to give us a more realistic background and to reintroduce you to the idea of null and neutral models in ecology*"
   ]
  },
  {
   "cell_type": "markdown",
   "metadata": {},
   "source": [
    "First, we'll make another parameters file, the same way as before, but this time creating an 'nlmpy'-type landscape layer. (`nlmpy` is a Python package for creating NLMs.)\n",
    "\n",
    "We can do that by **running the next cell**."
   ]
  },
  {
   "cell_type": "code",
   "execution_count": null,
   "metadata": {},
   "outputs": [],
   "source": [
    "# create a Geonomics parameters file\n",
    "\n",
    "gnx.make_parameters_file(filepath='./neutral_demo_NLM.py',\n",
    "                         layers=[{'type': 'nlmpy', 'change': False}],\n",
    "                         species=[{'movement': True,\n",
    "                                   'movement_surface': True,\n",
    "                                   'dispersal_surface': False,\n",
    "                                   'genomes': True,\n",
    "                                   'n_traits': 0,\n",
    "                                   'demographic_change': 0,\n",
    "                                   'parameter_change': False}],\n",
    "                         data=False,\n",
    "                         stats=False)"
   ]
  },
  {
   "cell_type": "markdown",
   "metadata": {},
   "source": [
    "Then we'll load that file into a cell again.\n",
    "\n",
    "But this time we'll tweak a value in the parameters dictionary before running it and then making a model from it.\n",
    "\n",
    "After loading the parameters file into the next cell, make the following changes:\n",
    "\n",
    "-  **h parameter in the 'nlmpy' section**: *set the level of spatial autocorrelation in the NLM to 1.5*\n",
    "\n",
    "**NOTE**: *If you're having a hard time finding the parameter or its section, try searching with your browser's search-in-page functionality (usually launched by typing `<Ctrl> + <F>`.*"
   ]
  },
  {
   "cell_type": "code",
   "execution_count": null,
   "metadata": {},
   "outputs": [],
   "source": [
    "# |||                                 |||\n",
    "# vvv UNCOMMENT AND RUN THE NEXT LINE vvv\n",
    "\n",
    "#%load ./neutral_demo_NLM.py"
   ]
  },
  {
   "cell_type": "markdown",
   "metadata": {},
   "source": [
    "Now we'll do the same steps as before:\n",
    "- make the model\n",
    "- run it\n",
    "- plot the results\n",
    "\n",
    "To do that, go ahead and **run the next few cells**."
   ]
  },
  {
   "cell_type": "code",
   "execution_count": null,
   "metadata": {},
   "outputs": [],
   "source": [
    "params = gnx.make_params_dict(params, 'neutral_demo')\n",
    "mod = gnx.make_model(parameters=params, verbose=True)"
   ]
  },
  {
   "cell_type": "code",
   "execution_count": null,
   "metadata": {},
   "outputs": [],
   "source": [
    "mod.walk(T=10000, mode='burn')"
   ]
  },
  {
   "cell_type": "code",
   "execution_count": null,
   "metadata": {},
   "outputs": [],
   "source": [
    "mod.walk(T=10, mode='main')"
   ]
  },
  {
   "cell_type": "code",
   "execution_count": null,
   "metadata": {},
   "outputs": [],
   "source": [
    "mod.plot(lyr=0, spp=0)"
   ]
  },
  {
   "cell_type": "markdown",
   "metadata": {},
   "source": [
    "<div class=\"alert alert-block alert-warning\">\n",
    "    <b>QUESTION 1: Briefly explain how Geonomics works and compare the models we built and ran; one without spatial heterogeneity and one with spatial heterogenetity using the NLM as our layer.</b>\n",
    "    <br />    \n",
    "</div>"
   ]
  },
  {
   "cell_type": "markdown",
   "metadata": {},
   "source": [
    "#student\n",
    "\n",
    "Q1: YOUR RESPONSE HERE"
   ]
  },
  {
   "cell_type": "markdown",
   "metadata": {},
   "source": [
    "  **Hint**: Recall that in the second model we used an NLM as the habitat map and the carrying-capacity map."
   ]
  },
  {
   "cell_type": "markdown",
   "metadata": {},
   "source": [
    "<div class=\"alert alert-danger\" role=\"alert\" style=\"font-size:120%\">\n",
    "    <b><h2>PART 2: Environmental Change</h2></b> "
   ]
  },
  {
   "cell_type": "markdown",
   "metadata": {},
   "source": [
    "Now that we've seen a quick example of how Geonomics works, we'll make a more complicated model, then use the results to explore questions about gene flow, isolation, and genetic divergence in species distributed across space.\n",
    "\n",
    "For example, **what would happen if a barrier were to arise on the landscape?** Let's simulate one to find out!\n",
    "\n",
    "This time, for the first 500 time steps, our species will evolve on a homogeneous landscape (just like our first model). We will make some plots to observe the model, we'll create another model with a homogeneous landscape layer, then run that model for 500 timesteps and observe how genetic relatedness changes over time. *This will be equivalent to watching genetic evolution in the first model we made.* \n",
    "\n",
    "But then, a big central barrier will arise. We will watch this barrier arise, simulate another 500 time steps, then use the same plots to see how the barrier influenced genetic relatedness.\n"
   ]
  },
  {
   "cell_type": "markdown",
   "metadata": {},
   "source": [
    "To start off, we need to create and save an array for our landscape layer. To do that, we'll use one of the helper functions that we loaded at the beginning. To do that, **run the next cell**."
   ]
  },
  {
   "cell_type": "code",
   "execution_count": null,
   "metadata": {},
   "outputs": [],
   "source": [
    "#save a new file\n",
    "barr_lyr = add_vert_barrier(make_unif_array(40))\n",
    "plt.imshow(barr_lyr, cmap = 'RdBu_r')\n",
    "np.savetxt('barrier.txt', barr_lyr, fmt='%0.5f')"
   ]
  },
  {
   "cell_type": "markdown",
   "metadata": {},
   "source": [
    "Now we'll create a new parameters file, with a landscape change event that uses that file. We'll use the same code as before to create a new parameters file (this time with a landscape-change event) and load it into a cell.\n",
    "\n",
    "But this time, you'll make the following **six changes** to the parameters file (do this after you run the %load ./barrier_demo.py cell below which will load things into your browser for easy manipulation):\n",
    "\n",
    "- **dim** parameter: *set the landscape dimensions to __(40, 40)__*\n",
    "\n",
    "- **rast** parameter: *set the landscape raster to a 40-cell by 40-cell uniform array of ones. We can do this using a function we loaded at the beginning: type __`make_unif_array(40)`__.*\n",
    "\n",
    "- **change_rast** parameter: *set the value of this parameter, in the landscape-change section, to __'./barrier.txt'__ (the barrier layer that we just created)*\n",
    "\n",
    "- **start_t** parameter: *set the landscape-change event to start at timestep __500__*\n",
    "\n",
    "- **end_t** parameter: *set the landscape-change event to end at timestep __600__*\n",
    "\n",
    "- **n_steps** parameter: *to keep things simple, set the number of stepwise-changes in the landscape-change event to just __2__*"
   ]
  },
  {
   "cell_type": "code",
   "execution_count": null,
   "metadata": {},
   "outputs": [],
   "source": [
    "# create a new Geonomics parameters file, with landscape change\n",
    "\n",
    "gnx.make_parameters_file(filepath='./barrier_demo.py',\n",
    "                         layers=[{'type': 'defined', 'change': True}],\n",
    "                         species=[{'movement': True,\n",
    "                                   'movement_surface': True,\n",
    "                                   'dispersal_surface': False,\n",
    "                                   'genomes': True,\n",
    "                                   'n_traits': 0,\n",
    "                                   'demographic_change': 0,\n",
    "                                   'parameter_change': False}],\n",
    "                         data=False,\n",
    "                         stats=False)"
   ]
  },
  {
   "cell_type": "markdown",
   "metadata": {},
   "source": [
    "In **code cell** below you need to uncomment the line of code. To \"uncomment\" you delete the # in front of `%load ./barrier_demo.py`. "
   ]
  },
  {
   "cell_type": "code",
   "execution_count": null,
   "metadata": {},
   "outputs": [],
   "source": [
    "# |||                                 |||\n",
    "# vvv UNCOMMENT AND RUN THE NEXT LINE vvv\n",
    "\n",
    "#%load ./barrier_demo.py"
   ]
  },
  {
   "cell_type": "markdown",
   "metadata": {},
   "source": [
    "Now, just like before, we'll create the model, burn it in, then run it and observe.\n",
    "\n",
    "We'll start by just running the portion of the model **before** the landscape change event, to observe what happens during that time."
   ]
  },
  {
   "cell_type": "code",
   "execution_count": null,
   "metadata": {},
   "outputs": [],
   "source": [
    "#make our params dict into a proper Geonomics ParamsDict object\n",
    "params = gnx.make_params_dict(params, 'barrier_demo')\n",
    "#then use it to make a model\n",
    "mod = gnx.make_model(parameters=params, verbose=True)"
   ]
  },
  {
   "cell_type": "code",
   "execution_count": null,
   "metadata": {},
   "outputs": [],
   "source": [
    "#First we have to run the model burn-in, as always\n",
    "\n",
    "#SCROLL DOWN TO OBSERVE BURN-IN AND SEE PLOT\n",
    "\n",
    "mod.walk(T=10000, mode='burn')\n",
    "#plot the resulting object\n",
    "mod.plot(spp=0, lyr=0)"
   ]
  },
  {
   "cell_type": "code",
   "execution_count": null,
   "metadata": {},
   "outputs": [],
   "source": [
    "#Now we can run the main phase of the model for the first 500 timesteps.\n",
    "mod.walk(500, 'main')"
   ]
  },
  {
   "cell_type": "markdown",
   "metadata": {},
   "source": [
    "Then let's plot the individuals in \"genetic-relatedness space\",\n",
    "and also map them in geographic space but colored by their genetic relatedness."
   ]
  },
  {
   "cell_type": "code",
   "execution_count": null,
   "metadata": {},
   "outputs": [],
   "source": [
    "#We'll use the genetic PCA functions we defined at the beginning.\n",
    "plot_PCA(mod)\n",
    "map_PCA(mod)"
   ]
  },
  {
   "cell_type": "markdown",
   "metadata": {},
   "source": [
    "<div class=\"alert alert-block alert-warning\">\n",
    "    <b>QUESTION 2: What can you say about gene flow amoung individuals of this species from the plot of genetic relatedness? Is there any evidence of genetic drift happening?</b>\n",
    "    <br />    \n",
    "</div>"
   ]
  },
  {
   "cell_type": "markdown",
   "metadata": {},
   "source": [
    "#student\n",
    "\n",
    "Q2: YOUR RESPONSE HERE"
   ]
  },
  {
   "cell_type": "markdown",
   "metadata": {},
   "source": [
    "<div class=\"alert alert-warning\" role=\"alert\" style=\"font-size:120%\">\n",
    "    <b><h2>The effect of the barrier</h2></b> "
   ]
  },
  {
   "cell_type": "markdown",
   "metadata": {},
   "source": [
    "Now we will continue running this model. Over the next 50 timesteps, our landscape-change event will occur. The barrier will \"arise\" on the landscape, and will gradually reduce individuals' ability to move across it.\n",
    "\n",
    "We will plot our same genetic relatedness plots a few more times, so that we can see if the barrier has any effect on relatedness, and if so, how that effect unfolds over time.\n",
    "\n",
    "First, we'll run the model 50 more timesteps, until half-way through the change event."
   ]
  },
  {
   "cell_type": "code",
   "execution_count": null,
   "metadata": {},
   "outputs": [],
   "source": [
    "mod.walk(50, 'main')\n",
    "mod.plot(spp=0, lyr=0)"
   ]
  },
  {
   "cell_type": "code",
   "execution_count": null,
   "metadata": {},
   "outputs": [],
   "source": [
    "plot_PCA(mod)\n",
    "map_PCA(mod)"
   ]
  },
  {
   "cell_type": "markdown",
   "metadata": {},
   "source": [
    "Now we'll run it for 51 more timesteps, until right after the end of the change event."
   ]
  },
  {
   "cell_type": "code",
   "execution_count": null,
   "metadata": {},
   "outputs": [],
   "source": [
    "mod.walk(51, 'main')\n",
    "mod.plot(spp=0, lyr=0)"
   ]
  },
  {
   "cell_type": "code",
   "execution_count": null,
   "metadata": {},
   "outputs": [],
   "source": [
    "plot_PCA(mod)\n",
    "map_PCA(mod)"
   ]
  },
  {
   "cell_type": "markdown",
   "metadata": {},
   "source": [
    "Finally, we'll run the model for another 500 time steps, to give any effects more time to play out. Then we'll plot genetic relatedness one last time."
   ]
  },
  {
   "cell_type": "markdown",
   "metadata": {},
   "source": [
    "Then let's plot genetic relatedness again."
   ]
  },
  {
   "cell_type": "code",
   "execution_count": null,
   "metadata": {},
   "outputs": [],
   "source": [
    "mod.walk(500, 'main')"
   ]
  },
  {
   "cell_type": "code",
   "execution_count": null,
   "metadata": {},
   "outputs": [],
   "source": [
    "plot_PCA(mod)\n",
    "map_PCA(mod)"
   ]
  },
  {
   "cell_type": "markdown",
   "metadata": {},
   "source": [
    "<div class=\"alert alert-block alert-warning\">\n",
    "    <b>QUESTION 3: What was the influence of the rise of this barrier (a vicariance event) on gene flow and genetic drift? Be specific.</b>\n",
    "    <br />    \n",
    "</div>"
   ]
  },
  {
   "cell_type": "markdown",
   "metadata": {},
   "source": [
    "#student\n",
    "\n",
    "Q3: YOUR RESPONSE HERE"
   ]
  },
  {
   "cell_type": "markdown",
   "metadata": {},
   "source": [
    "<div class=\"alert alert-danger\" role=\"alert\" style=\"font-size:120%\">\n",
    "    <b><h2>Part 3: Natural Selection</h2></b> "
   ]
  },
  {
   "cell_type": "markdown",
   "metadata": {},
   "source": [
    "For the remainder of today's lab, we'll explore a different simulation scenario, one in which natural selection is operating.\n",
    "\n",
    "Remember, **natural selection occurs because**:\n",
    "1. Individuals vary phenotypically.\n",
    "2. They vary phenotypically because they vary genotypically.\n",
    "3. Genotypic variations are heritable.\n",
    "4. Individuals' variation makes some more likely to survive and reproduce than others (i.e. more fit).\n",
    "5. More fit individuals pass their genes on more often.\n",
    "6. Over time, this changes the genetic and phenotypic constitution of a population, and thus of a species.\n",
    "\n",
    "Geonomics will simulate that process - in space! As you're watching these simulations, keep in mind\n",
    "the concepts you just explored in the previous simulation about gene flow and isolation.\n",
    "Those things still happen in this model, but natural selection adds an extra level of complexity. It can change the probability that certain genes move and persist on the landscape, and thus the nature of isolation between\n",
    "different neighborhoods on the lanscape.\n",
    "\n",
    "The following cells' code are very similar to what we saw in the first section. As before, run the code, changing any values as directed.\n"
   ]
  },
  {
   "cell_type": "markdown",
   "metadata": {},
   "source": [
    "<div class=\"alert alert-warning\" role=\"alert\" style=\"font-size:120%\">\n",
    "    <b><h2>Create a parameters file</h2></b> "
   ]
  },
  {
   "cell_type": "markdown",
   "metadata": {},
   "source": [
    "This time, we want a model with <u>__two layers__</u>:\n",
    "\n",
    "1. A layer to describe the __distribution of habitat__, which will determine both the species' local population density and its movement throughout the landscape. \n",
    "    - We will use a uniform array from the neutral landscape model for this layer, as we saw in the previous simulation.\n",
    "    \n",
    "2. A layer to describe an __environmental gradient__ across the landscape, which will exert spatially divergent selection on the species.\n",
    "    - We will define this layer's array using the function that we defined at the beginning of the file.\n",
    "    \n",
    "We again want a model with a <u>__single species__</u>, but this time that species should have a __one trait__. Each individual's phenotype for this trait will determined by its genotype at the genetic loci that underlie the trait, and its fitness (i.e. probability of survival) will be determined by the difference between that phenotype and the optimal phenotype at the individual's location, according to the environmental gradient layer. Thus, the environmental gradient will exert spatially divergent natural selection on this trait.\n",
    "\n",
    "Here is the code to create the parameters file:"
   ]
  },
  {
   "cell_type": "code",
   "execution_count": null,
   "metadata": {},
   "outputs": [],
   "source": [
    "# create a Geonomics parameters file\n",
    "\n",
    "gnx.make_parameters_file(filepath='./selection_demo.py',\n",
    "                         layers=[{'type': 'defined', 'change': False},\n",
    "                                 {'type': 'defined', 'change': False}],\n",
    "                         species=[{'movement': True,\n",
    "                                   'movement_surface': True,\n",
    "                                   'dispersal_surface': False,\n",
    "                                   'genomes': True,\n",
    "                                   'n_traits': 1,\n",
    "                                   'demographic_change': 0,\n",
    "                                   'parameter_change': False}],\n",
    "                         data=False,\n",
    "                         stats=False)\n"
   ]
  },
  {
   "cell_type": "markdown",
   "metadata": {},
   "source": [
    "<div class=\"alert alert-warning\" role=\"alert\" style=\"font-size:120%\">\n",
    "    <b><h2>Load and edit the parameters file</h2></b> "
   ]
  },
  {
   "cell_type": "markdown",
   "metadata": {},
   "source": [
    "Again, as before, we'll load the parameters file into a cell. (To do that, uncomment the appropriate line of code in the next cell, then run the cell.)\n",
    "\n",
    "\n",
    "Then, change the following parameter values in the parameters:\n",
    "\n",
    "- **dim** parameter: *set the landscape dimensions to __(40, 40)__*\n",
    "\n",
    "- **rast** parameter in the __'lyr_0'__ section: *set to a a horizontal gradient, using __`make_unif_array(40)`__*\n",
    "\n",
    "- **rast** parameter in the __'lyr_1'__ section: *set to a uniform array, using __`make_horz_grad_array(40)`__*\n",
    "\n",
    "- **layer** parameter in the __'trait_0'__ section: *set to __`'lyr_1'`__, to indicate that layer 1 should serve as trait 0's selective force*\n",
    "\n",
    "\n",
    "Finally, run the parameters cell."
   ]
  },
  {
   "cell_type": "markdown",
   "metadata": {},
   "source": [
    "In **code cell** below you need to uncomment the line of code. To \"uncomment\" you delete the # in front of `%load ./selection_demo.py`. "
   ]
  },
  {
   "cell_type": "code",
   "execution_count": null,
   "metadata": {},
   "outputs": [],
   "source": [
    "# |||                                 |||\n",
    "# vvv UNCOMMENT AND RUN THE NEXT LINE vvv\n",
    "\n",
    "#%load ./selection_demo.py"
   ]
  },
  {
   "cell_type": "markdown",
   "metadata": {},
   "source": [
    "<div class=\"alert alert-warning\" role=\"alert\" style=\"font-size:120%\">\n",
    "    <b><h2>Make the model</h2></b> "
   ]
  },
  {
   "cell_type": "markdown",
   "metadata": {},
   "source": [
    "Run the following code again to make the model."
   ]
  },
  {
   "cell_type": "code",
   "execution_count": null,
   "metadata": {},
   "outputs": [],
   "source": [
    "#make our params dict into a proper Geonomics ParamsDict object\n",
    "params = gnx.make_params_dict(params, 'neutral_demo')\n",
    "#then use it to make a model\n",
    "mod = gnx.make_model(parameters=params, verbose=True)"
   ]
  },
  {
   "cell_type": "markdown",
   "metadata": {},
   "source": [
    "Then take a look at the model."
   ]
  },
  {
   "cell_type": "code",
   "execution_count": null,
   "metadata": {},
   "outputs": [],
   "source": [
    "mod\n",
    "mod.plot(spp=0, lyr=1)"
   ]
  },
  {
   "cell_type": "markdown",
   "metadata": {},
   "source": [
    "<div class=\"alert alert-warning\" role=\"alert\" style=\"font-size:120%\">\n",
    "    <b><h2>Run the model</h2></b> "
   ]
  },
  {
   "cell_type": "markdown",
   "metadata": {},
   "source": [
    "Now we'll burn the model in, then see what we've got:"
   ]
  },
  {
   "cell_type": "code",
   "execution_count": null,
   "metadata": {},
   "outputs": [],
   "source": [
    "#SCROLL DOWN TO FOLLOW BURN-IN AND SEE PLOT\n",
    "\n",
    "mod.walk(T=10000, mode='burn')\n",
    "mod.plot(spp=0, lyr=1)"
   ]
  },
  {
   "cell_type": "markdown",
   "metadata": {},
   "source": [
    "Then, before we start running the main section of the model, we can use a built-in Geonomics function to make a map of the individuals, colored by their phenotypes for the trait.\n",
    "\n",
    "Note that the closer an individual's color is to its environmental background, the closer that individual is to the optimum phenotype for its location, and thus the higher the individual's fitness."
   ]
  },
  {
   "cell_type": "code",
   "execution_count": null,
   "metadata": {},
   "outputs": [],
   "source": [
    "mod.plot_phenotype(spp=0, trait=0)"
   ]
  },
  {
   "cell_type": "markdown",
   "metadata": {},
   "source": [
    "And let's also create our genetic relatedness plots again."
   ]
  },
  {
   "cell_type": "code",
   "execution_count": null,
   "metadata": {},
   "outputs": [],
   "source": [
    "plot_PCA(mod)\n",
    "map_PCA(mod, lyr_num=1, mask=False)"
   ]
  },
  {
   "cell_type": "markdown",
   "metadata": {},
   "source": [
    "Now, let's run our model for 100 timesteps, then create our plots again, up until time step 300. Keep a close eye on all three plots, and think about why you see what you do."
   ]
  },
  {
   "cell_type": "code",
   "execution_count": null,
   "metadata": {},
   "outputs": [],
   "source": [
    "mod.walk(50)"
   ]
  },
  {
   "cell_type": "code",
   "execution_count": null,
   "metadata": {},
   "outputs": [],
   "source": [
    "mod.plot_phenotype(spp=0, trait=0)"
   ]
  },
  {
   "cell_type": "code",
   "execution_count": null,
   "metadata": {},
   "outputs": [],
   "source": [
    "plot_PCA(mod)\n",
    "map_PCA(mod, lyr_num=1, mask=False)"
   ]
  },
  {
   "cell_type": "code",
   "execution_count": null,
   "metadata": {},
   "outputs": [],
   "source": [
    "mod.walk(50)"
   ]
  },
  {
   "cell_type": "code",
   "execution_count": null,
   "metadata": {},
   "outputs": [],
   "source": [
    "mod.plot_phenotype(spp=0, trait=0)"
   ]
  },
  {
   "cell_type": "code",
   "execution_count": null,
   "metadata": {},
   "outputs": [],
   "source": [
    "plot_PCA(mod)\n",
    "map_PCA(mod, lyr_num=1, mask=False)"
   ]
  },
  {
   "cell_type": "code",
   "execution_count": null,
   "metadata": {},
   "outputs": [],
   "source": [
    "mod.walk(50)"
   ]
  },
  {
   "cell_type": "code",
   "execution_count": null,
   "metadata": {},
   "outputs": [],
   "source": [
    "mod.plot_phenotype(spp=0, trait=0)"
   ]
  },
  {
   "cell_type": "code",
   "execution_count": null,
   "metadata": {},
   "outputs": [],
   "source": [
    "plot_PCA(mod)\n",
    "map_PCA(mod, lyr_num=1, mask=False)"
   ]
  },
  {
   "cell_type": "markdown",
   "metadata": {},
   "source": [
    "<div class=\"alert alert-block alert-warning\">\n",
    "    <b>QUESTION 4: How can you tell natural selection is acting on the population? Use evidence from the plots. Be specific.</b>\n",
    "    <br />    \n",
    "</div>"
   ]
  },
  {
   "cell_type": "markdown",
   "metadata": {},
   "source": [
    "#student\n",
    "\n",
    "Q4: YOUR RESPONSE HERE"
   ]
  },
  {
   "cell_type": "markdown",
   "metadata": {},
   "source": [
    "<div class=\"alert alert-block alert-warning\">\n",
    "    <b>QUESTION 5: Give an example of a condition that needs to be met for the genetic divergence of these populations to lead to speciation. Discuss. </b>\n",
    "    <br />    \n",
    "</div>"
   ]
  },
  {
   "cell_type": "markdown",
   "metadata": {},
   "source": [
    "#student\n",
    "\n",
    "YOUR RESPONSE HERE"
   ]
  },
  {
   "cell_type": "markdown",
   "metadata": {},
   "source": [
    "<div class=\"alert alert-block alert-info\">\n",
    "    <b>EXERCISE:</b>\n",
    "    <br />\n",
    "    Tweak the model and rerun.\n",
    "    In the remaining time, go back and <u>create your own scenario, by changing one or more of the following parameters</u> as you wish:\n",
    "\n",
    "- **phi** parameter: *This controls the strength of selection on the trait. It can be set to 0 <= value <= 1.*\n",
    "\n",
    "- **n_loci** parameter: *This controls the number of genetic loci underlying the trait's phenotype. For this simulation, it can be set to 1 <= value <= 100.*\n",
    "\n",
    "- **K_factor** parameter: *This controls the population density, by setting the number of individuals that can inhabit each cell. It can be set to any value > 0, technically, but values larger than 3 or 4 will probably require too much memory to run on this server, so be careful!*\n",
    "\n",
    "- **distance_dist_mu** parameter: *This controls the average distance that an individual moves each time step (in units of cell-widths), and thus how mobile the species is. For this simulation, it can be set to any value > 0 (but very large values might cause problems!).*\n",
    "\n",
    "- **mating_radius** parameter: *This controls the radius (expressed in cell-width units) within which an indivudal can choose a mate. For this simulation, it can be set to any value > 0.*\n",
    "\n",
    "If you wish, you should feel free to also toy with any other parameters. But please know that by doing so you may break the code and be unable to run your simulation.\n",
    "\n",
    "Once you've made your desired changes, <u>rerun the code above</u>, and make observations about the effect of the change you made.\n",
    "</div>"
   ]
  },
  {
   "cell_type": "markdown",
   "metadata": {},
   "source": [
    "<div class=\"alert alert-block alert-warning\">\n",
    "    <b>QUESTION 6: Which parameter did you change? What effect does this have and what change did you expect this would have on the evolutionary scenario?</b>\n",
    "    <br />    \n",
    "</div>"
   ]
  },
  {
   "cell_type": "markdown",
   "metadata": {},
   "source": [
    "#student\n",
    "\n",
    "Q6: YOUR RESPONSE HERE"
   ]
  },
  {
   "cell_type": "markdown",
   "metadata": {},
   "source": [
    "<div class=\"alert alert-block alert-warning\">\n",
    "    <b>QUESTION 7: What do the results suggest? Use evidence from the plots of the simulation to formulate your answer. </b>\n",
    "    <br />    \n",
    "</div>"
   ]
  },
  {
   "cell_type": "markdown",
   "metadata": {},
   "source": [
    "#student\n",
    "\n",
    "Q7: YOUR RESPONSE HERE"
   ]
  },
  {
   "cell_type": "markdown",
   "metadata": {},
   "source": [
    "#### Turning in your answers to bCourses\n",
    "\n",
    "**Make sure you have completed the exercise of creating your own scenario and answered questions 1-7.**\n",
    "\n",
    "You are finished with this notebook! Please run the following cell to generate a download link for your submission file.\n",
    "\n",
    "If the download link does not work like it has not been working with the first two notebooks, open a new tab and go to https://datahub.berkeley.edu, navigate to the \"geonomics_biogeo_demo\" folder, click the box next to `notebook3_submission.pdf`, then click the \"Download\" link below the menu bar.\n",
    "\n",
    "Then upload this answer sheet to bCourses for grading."
   ]
  },
  {
   "cell_type": "code",
   "execution_count": null,
   "metadata": {},
   "outputs": [],
   "source": [
    "!pip install gsexport -q\n",
    "import gsExport\n",
    "gsExport.generateSubmission(\"notebook3.ipynb\")"
   ]
  },
  {
   "cell_type": "markdown",
   "metadata": {},
   "source": [
    "This notebook was developed by Drew Hart, Natalie Graham, Monica Wilkinson and Keeley Takimoto\n",
    "\n",
    "October 2019"
   ]
  }
 ],
 "metadata": {
  "kernelspec": {
   "display_name": "Python 3",
   "language": "python",
   "name": "python3"
  },
  "language_info": {
   "codemirror_mode": {
    "name": "ipython",
    "version": 3
   },
   "file_extension": ".py",
   "mimetype": "text/x-python",
   "name": "python",
   "nbconvert_exporter": "python",
   "pygments_lexer": "ipython3",
   "version": "3.6.8"
  }
 },
 "nbformat": 4,
 "nbformat_minor": 2
}
